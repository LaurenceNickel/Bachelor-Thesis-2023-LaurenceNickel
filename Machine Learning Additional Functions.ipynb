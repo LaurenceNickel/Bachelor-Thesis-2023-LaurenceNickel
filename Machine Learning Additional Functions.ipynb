{
 "cells": [
  {
   "cell_type": "markdown",
   "id": "fa78c652",
   "metadata": {},
   "source": [
    "# Machine Learning Additional Functions\n",
    "### Laurence Nickel (i6257119)\n",
    "\n",
    "Libraries used: \n",
    "* pandas (version: '1.2.4')\n",
    "* numpy (version: '1.20.1')\n",
    "* sys (version: '3.8.8')\n",
    "* os (version: '3.8.8')\n",
    "* re (version: '2.2.1')"
   ]
  },
  {
   "cell_type": "markdown",
   "id": "38cc3906",
   "metadata": {},
   "source": [
    "## Introduction"
   ]
  },
  {
   "cell_type": "markdown",
   "id": "672ee32c",
   "metadata": {},
   "source": [
    "Within this notebook, additional functions are declared which can be called from the appropriate notebooks which actually perform the machine learning techniques. By running the command '%run \"Machine Learning Additional Functions.ipynb\"' in the machine learning notebook, the functions are loaded into that notebook and can be called freely. In the section below a summary is included of all the functions and how they work. The methylation and gene expression data files are not loaded into this notebook but rather into the machine learning notebooks themselves and they are supplied to the functions as parameters. The files containing the location data of the CpG sites and the genes are loaded into this notebook."
   ]
  },
  {
   "cell_type": "markdown",
   "id": "d7fd8d48",
   "metadata": {},
   "source": [
    "### The Functions"
   ]
  },
  {
   "cell_type": "markdown",
   "id": "e51051fd",
   "metadata": {},
   "source": [
    "To present a clear view of the functions that are featured below, the following overview is provided.\n",
    "* The __'get_chromosome_and_location_from_gene(gene)'__ function: retrieves the chromosome and the exact location on that chromosome of the passed on gene.\n",
    "* The __'get_methylation_data_from_chromosome(methylation_data, chromosome, distance)'__ function: retrieves a subset of the passed on 'methylation_data' DataFrame where the CpG sites are present on the passed on 'chromosome'.\n",
    "* The __'get_methylation_data_close_to_gene(methylation_data, gene, distance)'__ function: retrieves a subset of the passed on 'methylation_data' DataFrame where the CpG sites are within a distance of 'distance' from the 'gene'.\n",
    "* The __'get_methylation_data_close_to_gene_and_with_higher_correlation_than_threshold(methylation_data, gene_expression_data_current_gene, distance, threshold)'__ function: retrieves a subset of the passed on 'methylation_data' DataFrame where the CpG sites are within a distance of 'distance' from the gene and for which each of the CpG sites has a correlation coefficient higher than the threshold of 'threshold' with the gene.\n",
    "* The __'get_methylation_data_close_to_chromosome_position(methylation_data, chromosome, position, distance)'__ function: retrieves a subset of the passed on 'methylation_data' DataFrame where the CpG sites are within a distance of 'distance' from the 'position' on the 'chromosome'.\n",
    "* The __'get_gene_expression_data_from_chromosome(gene_expression_data, chromosome)'__ function: retrieves a subset of the passed on 'gene_expression_data' DataFrame where the genes are present on the passed on 'chromosome'.\n",
    "* The __'get_gene_expression_data_with_2_CpG_sites_within_distance(gene_expression_data, methylation_data, distance)'__ function: retrieves a subset of the passed on 'gene_expression_data' DataFrame where the genes have at least 2 CpG sites present in the 'methylation_data' DataFrame located within a distance of 'distance' from the current gene in both directions.\n",
    "* The __'get_gene_expression_data_with_2_CpG_sites_correlated_higher_than_threshold(gene_expression_data, methylation_data, threshold)'__ function: retrieves a subset of the passed on 'gene_expression_data' DataFrame where the genes have at least 2 CpG sites present in the 'methylation_data' DataFrame which have a higher or equal correlation than the 'threshold' with the current gene. "
   ]
  },
  {
   "cell_type": "markdown",
   "id": "be45d890",
   "metadata": {},
   "source": [
    "### Importing libraries"
   ]
  },
  {
   "cell_type": "markdown",
   "id": "08d11790",
   "metadata": {},
   "source": [
    "Before we can start to define all the functions, we should first import some libraries that will be used throughout this notebook."
   ]
  },
  {
   "cell_type": "code",
   "execution_count": 1,
   "id": "306b8c77",
   "metadata": {
    "ExecuteTime": {
     "end_time": "2023-06-18T22:50:33.079100Z",
     "start_time": "2023-06-18T22:50:31.741354Z"
    },
    "pycharm": {
     "name": "#%%\n"
    }
   },
   "outputs": [
    {
     "name": "stdout",
     "output_type": "stream",
     "text": [
      "Starting the importing of the libraries...\n",
      "Finishing the installing of the libraries.\n"
     ]
    }
   ],
   "source": [
    "print(\"Starting the importing of the libraries...\")\n",
    "\n",
    "\n",
    "import pandas as pd\n",
    "import numpy as np\n",
    "\n",
    "import sys\n",
    "import os\n",
    "import re\n",
    "\n",
    "\n",
    "print(\"Finishing the installing of the libraries.\")"
   ]
  },
  {
   "cell_type": "markdown",
   "id": "d7db9a54",
   "metadata": {},
   "source": [
    "Now that all the libraries have been imported, we can verify that these libraries have been loaded into this notebook by calling the version property of the library."
   ]
  },
  {
   "cell_type": "code",
   "execution_count": 2,
   "id": "8f5daa24",
   "metadata": {
    "ExecuteTime": {
     "end_time": "2023-06-18T22:50:33.110114Z",
     "start_time": "2023-06-18T22:50:33.083118Z"
    }
   },
   "outputs": [
    {
     "name": "stdout",
     "output_type": "stream",
     "text": [
      "The library 'pd' (pandas) has been loaded into the notebook with its version being:\n",
      "1.2.4\n",
      "The library 'np' (numpy) has been loaded into the notebook with its version being:\n",
      "1.20.1\n",
      "\n",
      "The library 're' has been loaded into the notebook with its version being:\n",
      "2.2.1\n",
      "\n",
      "The library 'sys' has been loaded into the notebook with its version being:\n",
      "3.8.8 (default, Apr 13 2021, 15:08:03) [MSC v.1916 64 bit (AMD64)]\n"
     ]
    }
   ],
   "source": [
    "# Retrieving the version of the libraries to verify they have been correctly loaded into this notebook.\n",
    "print(\"The library 'pd' (pandas) has been loaded into the notebook with its version being:\")\n",
    "print(pd.__version__)\n",
    "\n",
    "print(\"The library 'np' (numpy) has been loaded into the notebook with its version being:\")\n",
    "print(np.__version__)\n",
    "\n",
    "print(\"\\nThe library 're' has been loaded into the notebook with its version being:\")\n",
    "print(re.__version__)\n",
    "\n",
    "print(\"\\nThe library 'sys' has been loaded into the notebook with its version being:\")\n",
    "print(sys.version)"
   ]
  },
  {
   "cell_type": "markdown",
   "id": "1c5d0144",
   "metadata": {},
   "source": [
    "### Defining the data directory"
   ]
  },
  {
   "cell_type": "markdown",
   "id": "6f9db539",
   "metadata": {},
   "source": [
    "In addition, we also need to define our data directory from which the location files will be loaded. Please mind that this one needs to be changed to the desired directory to be able to work with the data directory."
   ]
  },
  {
   "cell_type": "code",
   "execution_count": 3,
   "id": "4a2dd588",
   "metadata": {
    "ExecuteTime": {
     "end_time": "2023-06-18T22:50:33.126003Z",
     "start_time": "2023-06-18T22:50:33.115586Z"
    },
    "pycharm": {
     "name": "#%%\n"
    }
   },
   "outputs": [],
   "source": [
    "data_directory_location_files = \"C:/Users/laure/OneDrive/Documenten/Bachelor Thesis Data/location_data\""
   ]
  },
  {
   "cell_type": "markdown",
   "id": "215b5898",
   "metadata": {},
   "source": [
    "## Loading the location data"
   ]
  },
  {
   "cell_type": "markdown",
   "id": "9e69d136",
   "metadata": {},
   "source": [
    "Within this section, the files are loaded into this notebook which contain the location data of the CpG sites and the genes and the lengths of the chromosomes."
   ]
  },
  {
   "cell_type": "markdown",
   "id": "05a35f2f",
   "metadata": {},
   "source": [
    "### Loading the 'CpG_sites_location_data.csv' file"
   ]
  },
  {
   "cell_type": "markdown",
   "id": "3ed71901",
   "metadata": {},
   "source": [
    "Loading the 'CpG_sites_location_data.csv' file into this notebook by calling the function 'pd.read_csv()' with as a parameter the to be read file."
   ]
  },
  {
   "cell_type": "code",
   "execution_count": 4,
   "id": "b7318f09",
   "metadata": {
    "ExecuteTime": {
     "end_time": "2023-06-18T22:50:33.660483Z",
     "start_time": "2023-06-18T22:50:33.130793Z"
    }
   },
   "outputs": [
    {
     "name": "stdout",
     "output_type": "stream",
     "text": [
      "The 'CpG_sites_location_data' DataFrame containing the location data of the CpG sites:\n"
     ]
    },
    {
     "data": {
      "text/html": [
       "<div>\n",
       "<style scoped>\n",
       "    .dataframe tbody tr th:only-of-type {\n",
       "        vertical-align: middle;\n",
       "    }\n",
       "\n",
       "    .dataframe tbody tr th {\n",
       "        vertical-align: top;\n",
       "    }\n",
       "\n",
       "    .dataframe thead th {\n",
       "        text-align: right;\n",
       "    }\n",
       "</style>\n",
       "<table border=\"1\" class=\"dataframe\">\n",
       "  <thead>\n",
       "    <tr style=\"text-align: right;\">\n",
       "      <th></th>\n",
       "      <th>CpG_site</th>\n",
       "      <th>chromosome</th>\n",
       "      <th>position</th>\n",
       "      <th>strand</th>\n",
       "    </tr>\n",
       "  </thead>\n",
       "  <tbody>\n",
       "    <tr>\n",
       "      <th>0</th>\n",
       "      <td>cg13869341</td>\n",
       "      <td>chr1</td>\n",
       "      <td>15865</td>\n",
       "      <td>+</td>\n",
       "    </tr>\n",
       "    <tr>\n",
       "      <th>1</th>\n",
       "      <td>cg14008030</td>\n",
       "      <td>chr1</td>\n",
       "      <td>18827</td>\n",
       "      <td>+</td>\n",
       "    </tr>\n",
       "    <tr>\n",
       "      <th>2</th>\n",
       "      <td>cg20826792</td>\n",
       "      <td>chr1</td>\n",
       "      <td>29425</td>\n",
       "      <td>+</td>\n",
       "    </tr>\n",
       "    <tr>\n",
       "      <th>3</th>\n",
       "      <td>cg20253340</td>\n",
       "      <td>chr1</td>\n",
       "      <td>68849</td>\n",
       "      <td>+</td>\n",
       "    </tr>\n",
       "    <tr>\n",
       "      <th>4</th>\n",
       "      <td>cg21870274</td>\n",
       "      <td>chr1</td>\n",
       "      <td>69591</td>\n",
       "      <td>-</td>\n",
       "    </tr>\n",
       "    <tr>\n",
       "      <th>...</th>\n",
       "      <td>...</td>\n",
       "      <td>...</td>\n",
       "      <td>...</td>\n",
       "      <td>...</td>\n",
       "    </tr>\n",
       "    <tr>\n",
       "      <th>270873</th>\n",
       "      <td>cg12121634</td>\n",
       "      <td>chr22</td>\n",
       "      <td>51194096</td>\n",
       "      <td>-</td>\n",
       "    </tr>\n",
       "    <tr>\n",
       "      <th>270874</th>\n",
       "      <td>cg04757410</td>\n",
       "      <td>chr22</td>\n",
       "      <td>51195437</td>\n",
       "      <td>-</td>\n",
       "    </tr>\n",
       "    <tr>\n",
       "      <th>270875</th>\n",
       "      <td>cg09456760</td>\n",
       "      <td>chr22</td>\n",
       "      <td>51206645</td>\n",
       "      <td>+</td>\n",
       "    </tr>\n",
       "    <tr>\n",
       "      <th>270876</th>\n",
       "      <td>cg07660283</td>\n",
       "      <td>chr22</td>\n",
       "      <td>51223343</td>\n",
       "      <td>+</td>\n",
       "    </tr>\n",
       "    <tr>\n",
       "      <th>270877</th>\n",
       "      <td>cg09226288</td>\n",
       "      <td>chr22</td>\n",
       "      <td>51225561</td>\n",
       "      <td>+</td>\n",
       "    </tr>\n",
       "  </tbody>\n",
       "</table>\n",
       "<p>270878 rows × 4 columns</p>\n",
       "</div>"
      ],
      "text/plain": [
       "          CpG_site chromosome  position strand\n",
       "0       cg13869341       chr1     15865      +\n",
       "1       cg14008030       chr1     18827      +\n",
       "2       cg20826792       chr1     29425      +\n",
       "3       cg20253340       chr1     68849      +\n",
       "4       cg21870274       chr1     69591      -\n",
       "...            ...        ...       ...    ...\n",
       "270873  cg12121634      chr22  51194096      -\n",
       "270874  cg04757410      chr22  51195437      -\n",
       "270875  cg09456760      chr22  51206645      +\n",
       "270876  cg07660283      chr22  51223343      +\n",
       "270877  cg09226288      chr22  51225561      +\n",
       "\n",
       "[270878 rows x 4 columns]"
      ]
     },
     "execution_count": 4,
     "metadata": {},
     "output_type": "execute_result"
    }
   ],
   "source": [
    "# Loading the file 'CpG_sites_location_data.csv'.\n",
    "CpG_sites_location_data = pd.read_csv(data_directory_location_files + '/CpG_sites_location_data.csv')\n",
    "\n",
    "print(\"The 'CpG_sites_location_data' DataFrame containing the location data of the CpG sites:\")\n",
    "CpG_sites_location_data"
   ]
  },
  {
   "cell_type": "markdown",
   "id": "6e751c3b",
   "metadata": {},
   "source": [
    "### Loading the 'genes_location_data.csv' file"
   ]
  },
  {
   "cell_type": "markdown",
   "id": "18dcc480",
   "metadata": {},
   "source": [
    "Loading the 'genes_location_data.csv' file into this notebook by calling the function 'pd.read_csv()' with as a parameter the to be read file."
   ]
  },
  {
   "cell_type": "code",
   "execution_count": 5,
   "id": "69991248",
   "metadata": {
    "ExecuteTime": {
     "end_time": "2023-06-18T22:50:33.771146Z",
     "start_time": "2023-06-18T22:50:33.665486Z"
    }
   },
   "outputs": [
    {
     "name": "stdout",
     "output_type": "stream",
     "text": [
      "The 'genes_location_data' DataFrame containing the location data of the genes:\n"
     ]
    },
    {
     "data": {
      "text/html": [
       "<div>\n",
       "<style scoped>\n",
       "    .dataframe tbody tr th:only-of-type {\n",
       "        vertical-align: middle;\n",
       "    }\n",
       "\n",
       "    .dataframe tbody tr th {\n",
       "        vertical-align: top;\n",
       "    }\n",
       "\n",
       "    .dataframe thead th {\n",
       "        text-align: right;\n",
       "    }\n",
       "</style>\n",
       "<table border=\"1\" class=\"dataframe\">\n",
       "  <thead>\n",
       "    <tr style=\"text-align: right;\">\n",
       "      <th></th>\n",
       "      <th>gene</th>\n",
       "      <th>chromosome</th>\n",
       "      <th>start_position</th>\n",
       "      <th>end_position</th>\n",
       "      <th>strand</th>\n",
       "    </tr>\n",
       "  </thead>\n",
       "  <tbody>\n",
       "    <tr>\n",
       "      <th>0</th>\n",
       "      <td>ENSG00000227232</td>\n",
       "      <td>chr1</td>\n",
       "      <td>14404</td>\n",
       "      <td>29570.0</td>\n",
       "      <td>-</td>\n",
       "    </tr>\n",
       "    <tr>\n",
       "      <th>1</th>\n",
       "      <td>ENSG00000278267</td>\n",
       "      <td>chr1</td>\n",
       "      <td>17369</td>\n",
       "      <td>17436.0</td>\n",
       "      <td>-</td>\n",
       "    </tr>\n",
       "    <tr>\n",
       "      <th>2</th>\n",
       "      <td>ENSG00000268903</td>\n",
       "      <td>chr1</td>\n",
       "      <td>135141</td>\n",
       "      <td>135895.0</td>\n",
       "      <td>-</td>\n",
       "    </tr>\n",
       "    <tr>\n",
       "      <th>3</th>\n",
       "      <td>ENSG00000269981</td>\n",
       "      <td>chr1</td>\n",
       "      <td>137682</td>\n",
       "      <td>137965.0</td>\n",
       "      <td>-</td>\n",
       "    </tr>\n",
       "    <tr>\n",
       "      <th>4</th>\n",
       "      <td>ENSG00000279457</td>\n",
       "      <td>chr1</td>\n",
       "      <td>185217</td>\n",
       "      <td>195411.0</td>\n",
       "      <td>-</td>\n",
       "    </tr>\n",
       "    <tr>\n",
       "      <th>...</th>\n",
       "      <td>...</td>\n",
       "      <td>...</td>\n",
       "      <td>...</td>\n",
       "      <td>...</td>\n",
       "      <td>...</td>\n",
       "    </tr>\n",
       "    <tr>\n",
       "      <th>19626</th>\n",
       "      <td>ENSG00000008735</td>\n",
       "      <td>chr22</td>\n",
       "      <td>50600793</td>\n",
       "      <td>50613981.0</td>\n",
       "      <td>+</td>\n",
       "    </tr>\n",
       "    <tr>\n",
       "      <th>19627</th>\n",
       "      <td>ENSG00000100299</td>\n",
       "      <td>chr22</td>\n",
       "      <td>50622754</td>\n",
       "      <td>50628173.0</td>\n",
       "      <td>-</td>\n",
       "    </tr>\n",
       "    <tr>\n",
       "      <th>19628</th>\n",
       "      <td>ENSG00000251322</td>\n",
       "      <td>chr22</td>\n",
       "      <td>50674415</td>\n",
       "      <td>50733212.0</td>\n",
       "      <td>+</td>\n",
       "    </tr>\n",
       "    <tr>\n",
       "      <th>19629</th>\n",
       "      <td>ENSG00000079974</td>\n",
       "      <td>chr22</td>\n",
       "      <td>50767501</td>\n",
       "      <td>50783667.0</td>\n",
       "      <td>-</td>\n",
       "    </tr>\n",
       "    <tr>\n",
       "      <th>19630</th>\n",
       "      <td>ENSG00000184319</td>\n",
       "      <td>chr22</td>\n",
       "      <td>50798655</td>\n",
       "      <td>50799123.0</td>\n",
       "      <td>+</td>\n",
       "    </tr>\n",
       "  </tbody>\n",
       "</table>\n",
       "<p>19631 rows × 5 columns</p>\n",
       "</div>"
      ],
      "text/plain": [
       "                  gene chromosome  start_position  end_position strand\n",
       "0      ENSG00000227232       chr1           14404       29570.0      -\n",
       "1      ENSG00000278267       chr1           17369       17436.0      -\n",
       "2      ENSG00000268903       chr1          135141      135895.0      -\n",
       "3      ENSG00000269981       chr1          137682      137965.0      -\n",
       "4      ENSG00000279457       chr1          185217      195411.0      -\n",
       "...                ...        ...             ...           ...    ...\n",
       "19626  ENSG00000008735      chr22        50600793    50613981.0      +\n",
       "19627  ENSG00000100299      chr22        50622754    50628173.0      -\n",
       "19628  ENSG00000251322      chr22        50674415    50733212.0      +\n",
       "19629  ENSG00000079974      chr22        50767501    50783667.0      -\n",
       "19630  ENSG00000184319      chr22        50798655    50799123.0      +\n",
       "\n",
       "[19631 rows x 5 columns]"
      ]
     },
     "execution_count": 5,
     "metadata": {},
     "output_type": "execute_result"
    }
   ],
   "source": [
    "# Loading the file 'genes_location_data.csv'.\n",
    "genes_location_data = pd.read_csv(data_directory_location_files + '/genes_location_data.csv')\n",
    "\n",
    "print(\"The 'genes_location_data' DataFrame containing the location data of the genes:\")\n",
    "genes_location_data"
   ]
  },
  {
   "cell_type": "markdown",
   "id": "85cff981",
   "metadata": {},
   "source": [
    "### Loading the 'chromosomes_length_data.csv' file"
   ]
  },
  {
   "cell_type": "markdown",
   "id": "b365edac",
   "metadata": {},
   "source": [
    "Loading the 'chromosomes_length_data.csv' file into this notebook by calling the function 'pd.read_csv()' with as a parameter the to be read file."
   ]
  },
  {
   "cell_type": "code",
   "execution_count": 6,
   "id": "e4dcefdb",
   "metadata": {
    "ExecuteTime": {
     "end_time": "2023-06-18T22:50:33.817423Z",
     "start_time": "2023-06-18T22:50:33.776667Z"
    },
    "scrolled": true
   },
   "outputs": [
    {
     "name": "stdout",
     "output_type": "stream",
     "text": [
      "The 'chromosomes_length_data' DataFrame containing the lengths of the chromosomes:\n"
     ]
    },
    {
     "data": {
      "text/html": [
       "<div>\n",
       "<style scoped>\n",
       "    .dataframe tbody tr th:only-of-type {\n",
       "        vertical-align: middle;\n",
       "    }\n",
       "\n",
       "    .dataframe tbody tr th {\n",
       "        vertical-align: top;\n",
       "    }\n",
       "\n",
       "    .dataframe thead th {\n",
       "        text-align: right;\n",
       "    }\n",
       "</style>\n",
       "<table border=\"1\" class=\"dataframe\">\n",
       "  <thead>\n",
       "    <tr style=\"text-align: right;\">\n",
       "      <th></th>\n",
       "      <th>chromosome</th>\n",
       "      <th>length</th>\n",
       "    </tr>\n",
       "  </thead>\n",
       "  <tbody>\n",
       "    <tr>\n",
       "      <th>0</th>\n",
       "      <td>chr1</td>\n",
       "      <td>249250621</td>\n",
       "    </tr>\n",
       "    <tr>\n",
       "      <th>1</th>\n",
       "      <td>chr2</td>\n",
       "      <td>243199373</td>\n",
       "    </tr>\n",
       "    <tr>\n",
       "      <th>2</th>\n",
       "      <td>chr3</td>\n",
       "      <td>198022430</td>\n",
       "    </tr>\n",
       "    <tr>\n",
       "      <th>3</th>\n",
       "      <td>chr4</td>\n",
       "      <td>191154276</td>\n",
       "    </tr>\n",
       "    <tr>\n",
       "      <th>4</th>\n",
       "      <td>chr5</td>\n",
       "      <td>180915260</td>\n",
       "    </tr>\n",
       "    <tr>\n",
       "      <th>5</th>\n",
       "      <td>chr6</td>\n",
       "      <td>171115067</td>\n",
       "    </tr>\n",
       "    <tr>\n",
       "      <th>6</th>\n",
       "      <td>chr7</td>\n",
       "      <td>159138663</td>\n",
       "    </tr>\n",
       "    <tr>\n",
       "      <th>7</th>\n",
       "      <td>chr8</td>\n",
       "      <td>146364022</td>\n",
       "    </tr>\n",
       "    <tr>\n",
       "      <th>8</th>\n",
       "      <td>chr9</td>\n",
       "      <td>141213431</td>\n",
       "    </tr>\n",
       "    <tr>\n",
       "      <th>9</th>\n",
       "      <td>chr10</td>\n",
       "      <td>135534747</td>\n",
       "    </tr>\n",
       "    <tr>\n",
       "      <th>10</th>\n",
       "      <td>chr11</td>\n",
       "      <td>135006516</td>\n",
       "    </tr>\n",
       "    <tr>\n",
       "      <th>11</th>\n",
       "      <td>chr12</td>\n",
       "      <td>133851895</td>\n",
       "    </tr>\n",
       "    <tr>\n",
       "      <th>12</th>\n",
       "      <td>chr13</td>\n",
       "      <td>115169878</td>\n",
       "    </tr>\n",
       "    <tr>\n",
       "      <th>13</th>\n",
       "      <td>chr14</td>\n",
       "      <td>107349540</td>\n",
       "    </tr>\n",
       "    <tr>\n",
       "      <th>14</th>\n",
       "      <td>chr15</td>\n",
       "      <td>102531392</td>\n",
       "    </tr>\n",
       "    <tr>\n",
       "      <th>15</th>\n",
       "      <td>chr16</td>\n",
       "      <td>90354753</td>\n",
       "    </tr>\n",
       "    <tr>\n",
       "      <th>16</th>\n",
       "      <td>chr17</td>\n",
       "      <td>81195210</td>\n",
       "    </tr>\n",
       "    <tr>\n",
       "      <th>17</th>\n",
       "      <td>chr18</td>\n",
       "      <td>78077248</td>\n",
       "    </tr>\n",
       "    <tr>\n",
       "      <th>18</th>\n",
       "      <td>chr19</td>\n",
       "      <td>59128983</td>\n",
       "    </tr>\n",
       "    <tr>\n",
       "      <th>19</th>\n",
       "      <td>chr20</td>\n",
       "      <td>63025520</td>\n",
       "    </tr>\n",
       "    <tr>\n",
       "      <th>20</th>\n",
       "      <td>chr21</td>\n",
       "      <td>48129895</td>\n",
       "    </tr>\n",
       "    <tr>\n",
       "      <th>21</th>\n",
       "      <td>chr22</td>\n",
       "      <td>51304566</td>\n",
       "    </tr>\n",
       "  </tbody>\n",
       "</table>\n",
       "</div>"
      ],
      "text/plain": [
       "   chromosome     length\n",
       "0        chr1  249250621\n",
       "1        chr2  243199373\n",
       "2        chr3  198022430\n",
       "3        chr4  191154276\n",
       "4        chr5  180915260\n",
       "5        chr6  171115067\n",
       "6        chr7  159138663\n",
       "7        chr8  146364022\n",
       "8        chr9  141213431\n",
       "9       chr10  135534747\n",
       "10      chr11  135006516\n",
       "11      chr12  133851895\n",
       "12      chr13  115169878\n",
       "13      chr14  107349540\n",
       "14      chr15  102531392\n",
       "15      chr16   90354753\n",
       "16      chr17   81195210\n",
       "17      chr18   78077248\n",
       "18      chr19   59128983\n",
       "19      chr20   63025520\n",
       "20      chr21   48129895\n",
       "21      chr22   51304566"
      ]
     },
     "execution_count": 6,
     "metadata": {},
     "output_type": "execute_result"
    }
   ],
   "source": [
    "# Loading the file 'chromosomes_length_data.csv'.\n",
    "chromosomes_length_data = pd.read_csv(data_directory_location_files + '/chromosomes_length_data.csv')\n",
    "\n",
    "print(\"The 'chromosomes_length_data' DataFrame containing the lengths of the chromosomes:\")\n",
    "chromosomes_length_data"
   ]
  },
  {
   "cell_type": "markdown",
   "id": "eea6a184",
   "metadata": {},
   "source": [
    "## The Functions"
   ]
  },
  {
   "cell_type": "markdown",
   "id": "f3dc9ab5",
   "metadata": {},
   "source": [
    "Within this section, the functions are defined which can then be called from the appropriate notebooks which actually perform the machine learning techniques."
   ]
  },
  {
   "cell_type": "markdown",
   "id": "e76bfa9f",
   "metadata": {},
   "source": [
    "### The <i>'get_chromosome_and_location_from_gene(gene)'</i> function"
   ]
  },
  {
   "cell_type": "markdown",
   "id": "16706b29",
   "metadata": {},
   "source": [
    "The function 'get_chromosome_and_location_from_gene(gene)' retrieves the chromosome and the exact location on that chromosome of the passed on gene."
   ]
  },
  {
   "cell_type": "code",
   "execution_count": 7,
   "id": "21bca9b2",
   "metadata": {
    "ExecuteTime": {
     "end_time": "2023-06-18T22:50:33.848107Z",
     "start_time": "2023-06-18T22:50:33.824147Z"
    }
   },
   "outputs": [],
   "source": [
    "# This function retrieves the chromosome and the exact location on that chromosome of the passed on gene.\n",
    "def get_chromosome_and_location_from_gene(gene):\n",
    "    \n",
    "    # Checking whether the gene is of the correct format and the correct length.\n",
    "    if re.match('^ENSG00000\\d{6}$', gene) and (len(gene) == 15):\n",
    "        # Retrieving the chromosome, start position and end position of the gene.\n",
    "        chromosome = (genes_location_data[genes_location_data['gene'] == gene])['chromosome'].iloc[0]\n",
    "        start_position = (genes_location_data[genes_location_data['gene'] == gene])['start_position'].iloc[0]\n",
    "        end_position = (genes_location_data[genes_location_data['gene'] == gene])['end_position'].iloc[0]\n",
    "    else:\n",
    "        sys.exit(\"The gene is not of the correct format and is not present in the gene expression data.\")\n",
    "    \n",
    "    return {\"chromosome\": chromosome, \"start_position\": start_position, \"end_position\": end_position}"
   ]
  },
  {
   "cell_type": "markdown",
   "id": "7edee263",
   "metadata": {},
   "source": [
    "### The <i>'get_methylation_data_from_chromosome(methylation_data, chromosome)'</i> function"
   ]
  },
  {
   "cell_type": "markdown",
   "id": "a9903100",
   "metadata": {},
   "source": [
    "The function 'get_methylation_data_from_chromosome(methylation_data, chromosome)' retrieves a subset of the passed on 'methylation_data' DataFrame where the CpG sites are present on the passed on 'chromosome'."
   ]
  },
  {
   "cell_type": "code",
   "execution_count": 8,
   "id": "60e5ddc7",
   "metadata": {
    "ExecuteTime": {
     "end_time": "2023-06-18T22:50:33.878830Z",
     "start_time": "2023-06-18T22:50:33.854598Z"
    }
   },
   "outputs": [],
   "source": [
    "# This function retrieves a subset of the passed on 'methylation_data' DataFrame where the CpG sites are present on the \n",
    "# passed on 'chromosome'.\n",
    "def get_methylation_data_from_chromosome(methylation_data, chromosome):\n",
    "\n",
    "    # Checking whether the chromosome is a value between 1 and 22.\n",
    "    pattern = r'^chr([1-9]|1[0-9]|2[0-2])$'\n",
    "    if not re.match(pattern, str(chromosome)):\n",
    "        if (isinstance(chromosome, int) and 1 <= chromosome <= 22) or (isinstance(chromosome, str) and chromosome.isdigit() and 1 <= int(chromosome) <= 22):\n",
    "            chromosome = \"chr\" + str(chromosome)\n",
    "        else:\n",
    "            sys.exit(\"The chromosome given does not fall between 1 and 22.\")\n",
    "          \n",
    "    # Retrieving the CpG sites from the 'CpG_sites_location_data' DataFrame which have as their chromosome the 'chromosome'\n",
    "    # variable.\n",
    "    CpG_sites_from_chromosome = CpG_sites_location_data[CpG_sites_location_data[\"chromosome\"] == chromosome]['CpG_site'].tolist()\n",
    "    \n",
    "    # Transposing the 'methylation_data' DataFrame as this allows for faster indexing as we can then index the rows\n",
    "    # instead of the columns by calling the property 'T'.\n",
    "    methylation_data_transposed = methylation_data.T\n",
    "\n",
    "    # Setting the first column to be the index and dropping that column by respectively calling the functions \n",
    "    # 'set_axis()' and 'drop()'.\n",
    "    methylation_data_transposed = methylation_data_transposed.set_axis(methylation_data_transposed.iloc[0], axis=1)\n",
    "    methylation_data_transposed = methylation_data_transposed.drop(methylation_data_transposed.index[0])\n",
    "\n",
    "    # Retrieving a subset of the rows of the 'methylation_data_transposed' DataFrame by checking whether the CpG sites\n",
    "    # appear within the 'CpG_sites_from_chromosome' DataFrame. This can be achieved by calling the function 'isin()'.\n",
    "    CpG_sites_from_chromosome_from_methylation = methylation_data_transposed[\n",
    "                                        methylation_data_transposed.index.isin(CpG_sites_from_chromosome)]\n",
    "\n",
    "    # Transposing the 'CpG_sites_from_chromosome_from_methylation' DataFrame such that the CpG sites are the columns and the \n",
    "    # samples the rows (as this is the input expected by most machine learning algorithms).\n",
    "    methylation_data_from_chromosome = CpG_sites_from_chromosome_from_methylation.T\n",
    "\n",
    "    # Inserting the sample names currently present as the indices as the first column by calling the function 'insert()'\n",
    "    # and dropping the indices by calling the function 'drop()'.\n",
    "    methylation_data_from_chromosome.insert(0, 'Samples', methylation_data_from_chromosome.index)\n",
    "    methylation_data_from_chromosome = methylation_data_from_chromosome.reset_index(drop=True)\n",
    "    \n",
    "    return methylation_data_from_chromosome"
   ]
  },
  {
   "cell_type": "markdown",
   "id": "5950c28d",
   "metadata": {},
   "source": [
    "### The <i>'get_methylation_data_close_to_gene(methylation_data, gene, distance=500000)'</i> function:"
   ]
  },
  {
   "cell_type": "markdown",
   "id": "35416f77",
   "metadata": {},
   "source": [
    "The function 'get_methylation_data_close_to_gene(methylation_data, gene, distance=500000)' retrieves a subset of the passed on 'methylation_data' DataFrame where the CpG sites are within a distance of 'distance' from the 'gene'."
   ]
  },
  {
   "cell_type": "code",
   "execution_count": 1,
   "id": "68ed38cb",
   "metadata": {
    "ExecuteTime": {
     "end_time": "2023-06-19T11:47:44.225135Z",
     "start_time": "2023-06-19T11:47:44.204103Z"
    }
   },
   "outputs": [],
   "source": [
    "# This function retrieves a subset of the passed on 'methylation_data' DataFrame where the CpG sites are within a distance \n",
    "# of 'distance' from the 'gene'.\n",
    "def get_methylation_data_close_to_gene(methylation_data, gene, distance=500000):\n",
    "\n",
    "    # Checking whether the gene is of the correct format and the correct length.\n",
    "    if re.match('^ENSG00000\\d{6}$', gene) and (len(gene) == 15):\n",
    "        # Retrieving the chromosome, start position and end position of the gene.\n",
    "        chromosome = (genes_location_data[genes_location_data['gene'] == gene])['chromosome'].iloc[0]\n",
    "        start_position = (genes_location_data[genes_location_data['gene'] == gene])['start_position'].iloc[0]\n",
    "        end_position = (genes_location_data[genes_location_data['gene'] == gene])['end_position'].iloc[0]\n",
    "\n",
    "        # Retrieving the CpG sites from the 'CpG_sites_location_data' DataFrame which have as their chromosome the 'chromosome'\n",
    "        # variable. \n",
    "        CpG_sites_from_chromosome = CpG_sites_location_data[CpG_sites_location_data[\"chromosome\"] == chromosome]\n",
    "        \n",
    "        # Retrieving the CpG sites in the 'CpG_sites_from_chromosome' DataFrame of which the positions lie within the \n",
    "        # 'distance' from the 'start_position' and 'end_position' of the gene'. Of course, the CpG sites that are located\n",
    "        # inbetween these two positions are included as well.\n",
    "        CpG_sites_within_distance_and_between_positions = CpG_sites_from_chromosome[((CpG_sites_from_chromosome[\"position\"] >= start_position - distance) & \n",
    "                                            (CpG_sites_from_chromosome[\"position\"] <= end_position + distance)) |\n",
    "                                            ((CpG_sites_from_chromosome[\"position\"] > start_position) & \n",
    "                                            (CpG_sites_from_chromosome[\"position\"] < end_position))]['CpG_site'].tolist()\n",
    "        \n",
    "        # Transposing the 'methylation_data' DataFrame as this allows for faster indexing as we can then index the rows\n",
    "        # instead of the columns by calling the property 'T'.\n",
    "        methylation_data_transposed = methylation_data.T\n",
    "        \n",
    "        # Setting the first column to be the index and dropping that column by respectively calling the functions \n",
    "        # 'set_axis()' and 'drop()'.\n",
    "        methylation_data_transposed = methylation_data_transposed.set_axis(methylation_data_transposed.iloc[0], axis=1)\n",
    "        methylation_data_transposed = methylation_data_transposed.drop(methylation_data_transposed.index[0])\n",
    "        \n",
    "        # Retrieving a subset of the rows of the 'methylation_data_transposed' DataFrame by checking whether the CpG sites\n",
    "        # appear within the 'CpG_sites_within_distance_and_between_positions' DataFrame. This can be achieved by calling the \n",
    "        # function 'isin()'.\n",
    "        CpG_sites_within_distance_and_between_positions_from_methylation = methylation_data_transposed[\n",
    "                                            methylation_data_transposed.index.isin(CpG_sites_within_distance_and_between_positions)]\n",
    "\n",
    "        # Transposing the 'CpG_sites_within_distance_and_between_positions_from_methylation' DataFrame such that the CpG\n",
    "        # sites are the columns and the samples the rows (as this is the input expected by most machine learning algorithms).\n",
    "        methylation_data_close_to_gene = CpG_sites_within_distance_and_between_positions_from_methylation.T\n",
    "        \n",
    "        # Inserting the sample names currently present as the indices as the first column by calling the function 'insert()'\n",
    "        # and dropping the indices by calling the function 'drop()'.\n",
    "        methylation_data_close_to_gene.insert(0, 'Samples', methylation_data_close_to_gene.index)\n",
    "        methylation_data_close_to_gene = methylation_data_close_to_gene.reset_index(drop=True)\n",
    "\n",
    "    else:\n",
    "        sys.exit(\"The gene is not of the correct format and is not present in the gene expression data.\")\n",
    "        \n",
    "    return methylation_data_close_to_gene"
   ]
  },
  {
   "cell_type": "markdown",
   "id": "6cccbb23",
   "metadata": {},
   "source": [
    "### The <i>'get_methylation_data_close_to_gene_and_with_higher_correlation_than_threshold(methylation_data, gene_expression_data_current_gene, distance=500000, threshold=0.3)'</i> function:"
   ]
  },
  {
   "cell_type": "markdown",
   "id": "65182d96",
   "metadata": {},
   "source": [
    "The function 'get_methylation_data_close_to_gene_and_with_higher_correlation_than_threshold(methylation_data, gene_expression_data_current_gene, distance=500000, threshold=0.3)' retrieves a subset of the passed on 'methylation_data' DataFrame where the CpG sites are within a distance of 'distance' from the gene and for which each of the CpG sites has a correlation coefficient higher than the threshold of 'threshold' with the gene."
   ]
  },
  {
   "cell_type": "code",
   "execution_count": 2,
   "id": "dbea196e",
   "metadata": {
    "ExecuteTime": {
     "end_time": "2023-06-19T15:35:32.536647Z",
     "start_time": "2023-06-19T15:35:32.514592Z"
    }
   },
   "outputs": [],
   "source": [
    "# This function retrieves a subset of the passed on 'methylation_data' DataFrame where the CpG sites are within a distance \n",
    "# of 'distance' from the gene and for which each of the CpG sites has a correlation coefficient higher than the threshold \n",
    "# of 'threshold' with the gene.\n",
    "def get_methylation_data_close_to_gene_and_with_higher_correlation_than_threshold(methylation_data, gene_expression_data_current_gene, distance=500000, threshold=0.3):\n",
    "    \n",
    "    # Retrieving the gene of the 'gene_expression_data_current_gene' DataFrame.\n",
    "    gene = gene_expression_data_current_gene.columns[1]\n",
    "    \n",
    "    # Checking whether the gene is of the correct format and the correct length.\n",
    "    if re.match('^ENSG00000\\d{6}$', gene) and (len(gene) == 15):\n",
    "        # Retrieving the chromosome, start position and end position of the gene.\n",
    "        chromosome = (genes_location_data[genes_location_data['gene'] == gene])['chromosome'].iloc[0]\n",
    "        start_position = (genes_location_data[genes_location_data['gene'] == gene])['start_position'].iloc[0]\n",
    "        end_position = (genes_location_data[genes_location_data['gene'] == gene])['end_position'].iloc[0]\n",
    "\n",
    "        # Retrieving the CpG sites from the 'CpG_sites_location_data' DataFrame which have as their chromosome the 'chromosome'\n",
    "        # variable. \n",
    "        CpG_sites_from_chromosome = CpG_sites_location_data[CpG_sites_location_data[\"chromosome\"] == chromosome]\n",
    "        \n",
    "        # Retrieving the CpG sites in the 'CpG_sites_from_chromosome' DataFrame of which the positions lie within the \n",
    "        # 'distance' from the 'start_position' and 'end_position' of the gene'. Of course, the CpG sites that are located\n",
    "        # inbetween these two positions are included as well.\n",
    "        CpG_sites_within_distance_and_between_positions = CpG_sites_from_chromosome[((CpG_sites_from_chromosome[\"position\"] >= start_position - distance) & \n",
    "                                            (CpG_sites_from_chromosome[\"position\"] <= end_position + distance)) |\n",
    "                                            ((CpG_sites_from_chromosome[\"position\"] > start_position) & \n",
    "                                            (CpG_sites_from_chromosome[\"position\"] < end_position))]['CpG_site'].tolist()\n",
    "        \n",
    "        # Transposing the 'methylation_data' DataFrame as this allows for faster indexing as we can then index the rows\n",
    "        # instead of the columns by calling the property 'T'.\n",
    "        methylation_data_transposed = methylation_data.T\n",
    "        \n",
    "        # Setting the first column to be the index and dropping that column by respectively calling the functions \n",
    "        # 'set_axis()' and 'drop()'.\n",
    "        methylation_data_transposed = methylation_data_transposed.set_axis(methylation_data_transposed.iloc[0], axis=1)\n",
    "        methylation_data_transposed = methylation_data_transposed.drop(methylation_data_transposed.index[0])\n",
    "        \n",
    "        # Retrieving a subset of the rows of the 'methylation_data_transposed' DataFrame by checking whether the CpG sites\n",
    "        # appear within the 'CpG_sites_within_distance_and_between_positions' DataFrame. This can be achieved by calling the \n",
    "        # function 'isin()'.\n",
    "        CpG_sites_within_distance_and_between_positions_from_methylation = methylation_data_transposed[\n",
    "                                            methylation_data_transposed.index.isin(CpG_sites_within_distance_and_between_positions)]\n",
    "        \n",
    "        # Retrieving the data of the current 'gene' in the form of a list by calling the property 'values' and the function \n",
    "        # 'tolist()'.\n",
    "        gene_data = gene_expression_data_current_gene[gene].values.tolist()\n",
    "\n",
    "        # Creating an empty list that will later store all of the filtered rows.\n",
    "        filtered_rows = []\n",
    "\n",
    "        # Looping over every CpG site within the 'CpG_sites_within_distance_and_between_positions_from_methylation' DataFrame\n",
    "        # and checking whether its correlation coefficient with the current 'gene' is higher than the 'threshold'.\n",
    "        for CpG_site, row in CpG_sites_within_distance_and_between_positions_from_methylation.iterrows():\n",
    "            CpG_site_data = CpG_sites_within_distance_and_between_positions_from_methylation.loc[CpG_site].values.tolist()\n",
    "            \n",
    "            # Calculating the Pearson's correlation coefficient between the 'gene_data' and the 'CpG_site_data' by calling\n",
    "            # the function 'corrcoef()' from the 'numpy' library. Since a correlation matrix is returned, we retrieve one of\n",
    "            # the non-diagonal elements (which are all the same).\n",
    "            correlation_coefficient = (np.corrcoef(gene_data, CpG_site_data))[0, 1]\n",
    "            \n",
    "            # If this 'correlation_coefficient' (its absolute value retrieved by calling the function 'np.abs()') is higher \n",
    "            # than or equal to the 'threshold', we keep it.\n",
    "            if np.abs(correlation_coefficient) >= threshold:\n",
    "                filtered_rows.append(row)\n",
    "        \n",
    "        # Converting the 'filtered_rows' list to a new DataFrame by calling the constructor 'DataFrame()'.\n",
    "        CpG_sites_within_distance_and_between_positions_from_methylation_filtered = pd.DataFrame(filtered_rows)\n",
    "                \n",
    "        # Transposing the 'CpG_sites_within_distance_and_between_positions_from_methylation_filtered' DataFrame such that \n",
    "        # the CpG sites are the columns and the samples the rows (as this is the input expected by most machine learning \n",
    "        # algorithms).\n",
    "        methylation_data_close_to_gene = CpG_sites_within_distance_and_between_positions_from_methylation_filtered.T\n",
    "        \n",
    "        # Inserting the sample names currently present as the indices as the first column by calling the function 'insert()'\n",
    "        # and dropping the indices by calling the function 'drop()'.\n",
    "        methylation_data_close_to_gene.insert(0, 'Samples', methylation_data_close_to_gene.index)\n",
    "        methylation_data_close_to_gene = methylation_data_close_to_gene.reset_index(drop=True)\n",
    "\n",
    "    else:\n",
    "        sys.exit(\"The gene is not of the correct format and is not present in the gene expression data.\")\n",
    "        \n",
    "    return methylation_data_close_to_gene"
   ]
  },
  {
   "cell_type": "markdown",
   "id": "a5f93166",
   "metadata": {},
   "source": [
    "### The <i>'get_methylation_data_close_to_chromosome_position(methylation_data, chromosome, position, distance=500000)'</i> function:"
   ]
  },
  {
   "cell_type": "markdown",
   "id": "155cd609",
   "metadata": {},
   "source": [
    "The function 'get_methylation_data_close_to_chromosome_position(methylation_data, chromosome, position, distance=500000)' retrieves a subset of the passed on 'methylation_data' DataFrame where the CpG sites are within a distance of 'distance' from the 'position' on the 'chromosome'."
   ]
  },
  {
   "cell_type": "code",
   "execution_count": 10,
   "id": "d56f061f",
   "metadata": {
    "ExecuteTime": {
     "end_time": "2023-06-18T22:50:33.941175Z",
     "start_time": "2023-06-18T22:50:33.913960Z"
    }
   },
   "outputs": [],
   "source": [
    "# Retrieving a subset of the passed on 'methylation_data' DataFrame where the CpG sites are within a distance of 'distance' \n",
    "# from the 'position' on the 'chromosome'.\n",
    "def get_methylation_data_close_to_chromosome_position(methylation_data, chromosome, position, distance=500000):\n",
    "    \n",
    "    # Checking whether the chromosome is a value between 1 and 22.\n",
    "    pattern = r'^chr([1-9]|1[0-9]|2[0-2])$'\n",
    "    if not re.match(pattern, str(chromosome)):\n",
    "        if (isinstance(chromosome, int) and 1 <= chromosome <= 22) or (isinstance(chromosome, str) and chromosome.isdigit() and 1 <= int(chromosome) <= 22):\n",
    "            chromosome = \"chr\" + str(chromosome)\n",
    "        else:\n",
    "            sys.exit(\"The chromosome given does not fall between 1 and 22.\")\n",
    "    \n",
    "    # Retrieving the length of the chromosome.\n",
    "    chromosome_length = chromosomes_length_data.loc[chromosomes_length_data[\"chromosome\"] == chromosome, \"length\"].values[0]\n",
    "    \n",
    "    # Checking whether the position is a value between 1 and the length of the chromosome.\n",
    "    if (isinstance(position, int) and 1 <= position <= chromosome_length) or (isinstance(position, str) and position.isdigit() and 1 <= int(position) <= chromosome_length):\n",
    "        position = int(position)\n",
    "    else:\n",
    "        sys.exit(\"The position given does not fall between 1 and the length of the chromosome.\")\n",
    "    \n",
    "    # Retrieving the CpG sites from the 'CpG_sites_location_data' DataFrame which have as their chromosome the 'chromosome'\n",
    "    # variable. \n",
    "    CpG_sites_from_chromosome = CpG_sites_location_data[CpG_sites_location_data[\"chromosome\"] == chromosome]\n",
    "    \n",
    "    # Retrieving the CpG sites in the 'CpG_sites_from_chromosome' DataFrame of which the positions lie within the \n",
    "    # 'distance' from the 'start_position' and 'end_position' of the 'gene'. Of course, the CpG sites that are located\n",
    "    # inbetween these two positions are included as well.\n",
    "    CpG_sites_within_distance_and_between_positions = CpG_sites_from_chromosome[((CpG_sites_from_chromosome[\"position\"] >= position - distance) & \n",
    "                                        (CpG_sites_from_chromosome[\"position\"] <= position + distance))]['CpG_site']\n",
    "    \n",
    "    # Transposing the 'methylation_data' DataFrame as this allows for faster indexing as we can then index the rows\n",
    "    # instead of the columns by calling the property 'T'.\n",
    "    methylation_data_transposed = methylation_data.T\n",
    "\n",
    "    # Setting the first column to be the index and dropping that column by respectively calling the functions \n",
    "    # 'set_axis()' and 'drop()'.\n",
    "    methylation_data_transposed = methylation_data_transposed.set_axis(methylation_data_transposed.iloc[0], axis=1)\n",
    "    methylation_data_transposed = methylation_data_transposed.drop(methylation_data_transposed.index[0])\n",
    "\n",
    "    # Retrieving a subset of the rows of the 'methylation_data_transposed' DataFrame by checking whether the CpG sites\n",
    "    # appear within the 'CpG_sites_within_distance_and_between_positions' DataFrame. This can be achieved by calling the \n",
    "    # function 'isin()'.\n",
    "    CpG_sites_within_distance_and_between_positions_from_methylation = methylation_data_transposed[\n",
    "                                        methylation_data_transposed.index.isin(CpG_sites_within_distance_and_between_positions)]\n",
    "\n",
    "    # Transposing the 'CpG_sites_within_distance_and_between_positions_from_methylation' DataFrame such that the CpG\n",
    "    # sites are the columns and the samples the rows (as this is the input expected by most machine learning algorithms).\n",
    "    methylation_data_close_to_chromosome_position = CpG_sites_within_distance_and_between_positions_from_methylation.T\n",
    "\n",
    "    # Inserting the sample names currently present as the indices as the first column by calling the function 'insert()'\n",
    "    # and dropping the indices by calling the function 'drop()'.\n",
    "    methylation_data_close_to_chromosome_position.insert(0, 'Samples', methylation_data_close_to_chromosome_position.index)\n",
    "    methylation_data_close_to_chromosome_position = methylation_data_close_to_chromosome_position.reset_index(drop=True)\n",
    "    \n",
    "    return methylation_data_close_to_chromosome_position    "
   ]
  },
  {
   "cell_type": "markdown",
   "id": "c9da64d3",
   "metadata": {},
   "source": [
    "### The <i>'get_gene_expression_data_from_chromosome(gene_expression_data, chromosome)'</i> function"
   ]
  },
  {
   "cell_type": "markdown",
   "id": "292e3207",
   "metadata": {},
   "source": [
    "The function 'get_gene_expression_data_from_chromosome(gene_expression_data, chromosome)' retrieves a subset of the passed on 'gene_expression_data' DataFrame where the genes are present on the passed on 'chromosome'."
   ]
  },
  {
   "cell_type": "code",
   "execution_count": 11,
   "id": "ab2f85b1",
   "metadata": {
    "ExecuteTime": {
     "end_time": "2023-06-18T22:50:33.956082Z",
     "start_time": "2023-06-18T22:50:33.944570Z"
    }
   },
   "outputs": [],
   "source": [
    "# This function retrieves a subset of the passed on 'gene_expression_data' DataFrame where the genes are present on the \n",
    "# passed on 'chromosome'.\n",
    "def get_gene_expression_data_from_chromosome(gene_expression_data, chromosome):\n",
    "    \n",
    "    # Checking whether the chromosome is a value between 1 and 22.\n",
    "    pattern = r'^chr([1-9]|1[0-9]|2[0-2])$'\n",
    "    if not re.match(pattern, str(chromosome)):\n",
    "        if (isinstance(chromosome, int) and 1 <= chromosome <= 22) or (isinstance(chromosome, str) and chromosome.isdigit() and 1 <= int(chromosome) <= 22):\n",
    "            chromosome = \"chr\" + str(chromosome)\n",
    "        else:\n",
    "            sys.exit(\"The chromosome given does not fall between 1 and 22.\")\n",
    "            \n",
    "    # Retrieving the genes from the 'genes_location_data' DataFrame which have as their chromosome the 'chromosome'\n",
    "    # variable.\n",
    "    genes_from_chromosome = genes_location_data[genes_location_data[\"chromosome\"] == chromosome]['gene']\n",
    "    genes_chromosome = [column for column in gene_expression_data.columns[1:] if column in genes_from_chromosome.tolist()]\n",
    "    \n",
    "    # Selecting the subset of the 'gene_expression_data' DataFrame where the genes are in the 'genes_chromosome' \n",
    "    # variable.\n",
    "    selected_columns = genes_chromosome\n",
    "    selected_columns.insert(0, 'Samples')\n",
    "    gene_expression_data_from_chromosome = gene_expression_data[selected_columns]\n",
    "    \n",
    "    return gene_expression_data_from_chromosome"
   ]
  },
  {
   "cell_type": "markdown",
   "id": "44d17ff5",
   "metadata": {},
   "source": [
    "### The <i>'get_gene_expression_data_with_2_CpG_sites_within_distance(gene_expression_data, methylation_data, distance)'</i> function"
   ]
  },
  {
   "cell_type": "markdown",
   "id": "8aed0bef",
   "metadata": {},
   "source": [
    "The function 'get_gene_expression_data_with_2_CpG_sites_within_distance(gene_expression_data, methylation_data, distance)' retrieves a subset of the passed on 'gene_expression_data' DataFrame where the genes have at least 2 CpG sites present in the 'methylation_data' DataFrame located within a distance of 'distance' from the current gene in both directions."
   ]
  },
  {
   "cell_type": "code",
   "execution_count": 12,
   "id": "e279cfca",
   "metadata": {
    "ExecuteTime": {
     "end_time": "2023-06-18T22:50:33.987189Z",
     "start_time": "2023-06-18T22:50:33.960723Z"
    }
   },
   "outputs": [],
   "source": [
    "# This function retrieves a subset of the passed on 'gene_expression_data' DataFrame where the genes have at least 2 CpG \n",
    "# sites present in the 'methylation_data' DataFrame located within a distance of 'distance' from the current gene in both \n",
    "# directions.\n",
    "def get_gene_expression_data_with_2_CpG_sites_within_distance(gene_expression_data, methylation_data, distance):\n",
    "    \n",
    "    # The list of genes to be removed featuring all the genes for at most 1 CpG site is present within a distance of \n",
    "    # 'distance' in both directions from the current gene.\n",
    "    genes_to_remove = []\n",
    "\n",
    "    # Looping over every gene present in the 'gene_expression_data' DataFrame.\n",
    "    for gene in gene_expression_data.columns[1:]:\n",
    "        # Checking whether the gene is of the correct format and the correct length.\n",
    "        if re.match('^ENSG00000\\d{6}$', gene) and (len(gene) == 15):\n",
    "            # Retrieving the chromosome, start position and end position of the gene.\n",
    "            chromosome = (genes_location_data[genes_location_data['gene'] == gene])['chromosome'].iloc[0]\n",
    "            start_position = (genes_location_data[genes_location_data['gene'] == gene])['start_position'].iloc[0]\n",
    "            end_position = (genes_location_data[genes_location_data['gene'] == gene])['end_position'].iloc[0]\n",
    "\n",
    "            # Retrieving the CpG sites from the 'CpG_sites_location_data' DataFrame which have as their chromosome the \n",
    "            # 'chromosome' variable. \n",
    "            CpG_sites_from_chromosome = CpG_sites_location_data[CpG_sites_location_data[\"chromosome\"] == chromosome]\n",
    "\n",
    "            # Retrieving the CpG sites in the 'CpG_sites_from_chromosome' DataFrame of which the positions lie within the \n",
    "            # 'distance' from the 'start_position' and 'end_position' of the gene'. Of course, the CpG sites that are located\n",
    "            # inbetween these two positions are included as well.\n",
    "            CpG_sites_within_distance_and_between_positions = CpG_sites_from_chromosome[((CpG_sites_from_chromosome[\"position\"] >= start_position - distance) & \n",
    "                                                (CpG_sites_from_chromosome[\"position\"] <= end_position + distance)) |\n",
    "                                                ((CpG_sites_from_chromosome[\"position\"] > start_position) & \n",
    "                                                (CpG_sites_from_chromosome[\"position\"] < end_position))]['CpG_site']\n",
    "            CpG_sites_within_distance_and_between_positions_from_methylation = [column for column in methylation_data.columns[1:] if column in CpG_sites_within_distance_and_between_positions.tolist()]\n",
    "\n",
    "            # Retrieving the number of CpG sites present within the 'CpG_sites_within_distance_and_between_positions_from_methylation'.\n",
    "            number_of_CpG_sites = len(CpG_sites_within_distance_and_between_positions_from_methylation)\n",
    "\n",
    "            # Checking whether the 'number_of_CpG_sites' is smaller than 2. If this is the case, the gene is added to the list \n",
    "            # 'genes_to_remove'.\n",
    "            if number_of_CpG_sites < 2:\n",
    "                genes_to_remove.append(gene)\n",
    "\n",
    "        else:\n",
    "            sys.exit(\"The gene is not of the correct format and is not present in the gene expression data.\")\n",
    "    \n",
    "    \n",
    "    # Selecting the subset of the 'gene_expression_data' DataFrame where the genes are not in the 'genes_to_remove' list. \n",
    "    selected_columns = [gene for gene in gene_expression_data.columns[1:] if gene not in genes_to_remove]\n",
    "    selected_columns.insert(0, 'Samples')\n",
    "    gene_expression_data_filtered = gene_expression_data[selected_columns]\n",
    "    \n",
    "    return gene_expression_data_filtered"
   ]
  },
  {
   "cell_type": "markdown",
   "id": "18db142a",
   "metadata": {},
   "source": [
    "### The <i>'get_gene_expression_data_with_2_CpG_sites_correlated_higher_than_threshold(gene_expression_data, methylation_data, threshold)'</i> function"
   ]
  },
  {
   "cell_type": "markdown",
   "id": "ab08c462",
   "metadata": {},
   "source": [
    "The function 'get_gene_expression_data_with_2_CpG_sites_correlated_higher_than_threshold(gene_expression_data, methylation_data, threshold)' retrieves a subset of the passed on 'gene_expression_data' DataFrame where the genes have at least 2 CpG sites present in the 'methylation_data' DataFrame which have a higher or equal correlation than the 'threshold' with the current gene. "
   ]
  },
  {
   "cell_type": "code",
   "execution_count": 13,
   "id": "bf0008b3",
   "metadata": {
    "ExecuteTime": {
     "end_time": "2023-06-18T22:50:34.018776Z",
     "start_time": "2023-06-18T22:50:33.991189Z"
    }
   },
   "outputs": [],
   "source": [
    "# This function retrieves a subset of the passed on 'gene_expression_data' DataFrame where the genes have at least 2 CpG \n",
    "# sites present in the 'methylation_data' DataFrame which have a higher or equal correlation than the 'threshold' with the \n",
    "# current gene.\n",
    "def get_gene_expression_data_with_2_CpG_sites_correlated_higher_than_threshold(gene_expression_data, methylation_data, threshold):\n",
    "    \n",
    "    # The list of genes to be removed featuring all the genes for which there is at most 1 CpG site that has a higher or \n",
    "    # equal correlation coefficient with the gene than the threshold of 'threshold' for each of the genes.\n",
    "    genes_to_remove = []\n",
    "\n",
    "    # Looping over every gene present in the 'gene_expression_data' DataFrame.\n",
    "    for gene in gene_expression_data.columns[1:]:\n",
    "        # Retrieving the data for all 64 samples for the 'gene'.\n",
    "        gene_data = gene_expression_data[gene].values.tolist()\n",
    "        \n",
    "        # Setting a counter which will keep track of the number of CpG sites that have a higher or equal correlation \n",
    "        # coefficient with the 'gene' than the 'threshold'.\n",
    "        higher_than_threshold_counter = 0\n",
    "        \n",
    "        if re.match('^ENSG00000\\d{6}$', gene) and (len(gene) == 15):\n",
    "            # Calculating the Pearson's correlation coefficient between the 'gene' and every CpG site present within the \n",
    "            # 'methylation_data' DataFrame.\n",
    "            for CpG_site in methylation_data.columns[1:]:\n",
    "                # Retrieving the data for all 64 samples for the current 'CpG_site'.\n",
    "                CpG_site_data = methylation_data[CpG_site].values.tolist()\n",
    "\n",
    "                # Calculating the Pearson's correlation coefficient between the 'gene_data' and the 'CpG_site_data' by \n",
    "                # calling the function 'corrcoef()' from the 'numpy' library. Since a correlation matrix is returned, we \n",
    "                # retrieve one of the non-diagonal elements (which are all the same).\n",
    "                correlation_coefficient = (np.corrcoef(gene_data, CpG_site_data))[0, 1]\n",
    "\n",
    "                # If this 'correlation_coefficient' (its absolute value retrieved by calling the function 'np.abs()') is \n",
    "                # higher than or equal to the 'threshold', we increase the 'higher_than_threshold_counter' counter by one.\n",
    "                if np.abs(correlation_coefficient) >= threshold:\n",
    "                    higher_than_threshold_counter = higher_than_threshold_counter + 1\n",
    "\n",
    "            # Checking whether the 'higher_than_threshold_counter' is smaller than 2. If this is the case, the gene is added to the list \n",
    "            # 'genes_to_remove'.\n",
    "            if higher_than_threshold_counter < 2:\n",
    "                genes_to_remove.append(gene)\n",
    "                \n",
    "    # Selecting the subset of the 'gene_expression_data' DataFrame where the genes are not in the 'genes_to_remove' list. \n",
    "    selected_columns = [gene for gene in gene_expression_data.columns[1:] if gene not in genes_to_remove]\n",
    "    selected_columns.insert(0, 'Samples')\n",
    "    gene_expression_data_filtered = gene_expression_data[selected_columns]\n",
    "    \n",
    "    return gene_expression_data_filtered"
   ]
  }
 ],
 "metadata": {
  "hide_input": false,
  "kernelspec": {
   "display_name": "Python 3",
   "language": "python",
   "name": "python3"
  },
  "language_info": {
   "codemirror_mode": {
    "name": "ipython",
    "version": 3
   },
   "file_extension": ".py",
   "mimetype": "text/x-python",
   "name": "python",
   "nbconvert_exporter": "python",
   "pygments_lexer": "ipython3",
   "version": "3.8.8"
  }
 },
 "nbformat": 4,
 "nbformat_minor": 5
}